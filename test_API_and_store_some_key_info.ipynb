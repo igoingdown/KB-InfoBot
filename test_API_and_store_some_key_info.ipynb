{
 "cells": [
  {
   "cell_type": "markdown",
   "metadata": {},
   "source": [
    "## 新发现的各种好用API"
   ]
  },
  {
   "cell_type": "markdown",
   "metadata": {},
   "source": [
    "### collections包中的defaultdict和Counter\n",
    "* defaultdict: 构建较为复杂的dict的时候，传递一个value类型的参数，后面就不用通过判断key是否在dict中来决定是否需要初始化value了\n",
    "* Counter:构造一个dict对象，可以直接传递要计数的类型的list调用update API，更新Counter\n",
    "* 比如要计数一个iterable中各元素的出现频率，可以先构建一个Counter对象，然后直接把iterable对象传递给Counter即可"
   ]
  },
  {
   "cell_type": "code",
   "execution_count": 10,
   "metadata": {
    "collapsed": false
   },
   "outputs": [
    {
     "name": "stdout",
     "output_type": "stream",
     "text": [
      "defaultdict(<type 'list'>, {0: [0], 1: [1], 2: [2], 3: [3], 4: [4], 5: [5], 6: [6], 7: [7], 8: [8], 9: [9]})\n",
      "Counter({0: 2, 1: 2, 2: 2, 3: 2, 4: 2, 5: 1, 6: 1, 7: 1, 8: 1, 9: 1})\n"
     ]
    }
   ],
   "source": [
    "from collections import defaultdict, Counter\n",
    "x = defaultdict(list)\n",
    "for i in range(10):\n",
    "    x[i].append(i)\n",
    "print x\n",
    "l = [i for i in range(10)]\n",
    "l += [i for i in range(5)]\n",
    "c = Counter()\n",
    "c.update(l)\n",
    "print c"
   ]
  },
  {
   "cell_type": "markdown",
   "metadata": {},
   "source": [
    "### list的count函数和index函数\n",
    "    \n",
    "    * count可以计数指定元素x的出现次数\n",
    "    * index可以直接得到指定元素第一次出现的index"
   ]
  },
  {
   "cell_type": "code",
   "execution_count": 11,
   "metadata": {
    "collapsed": false
   },
   "outputs": [
    {
     "name": "stdout",
     "output_type": "stream",
     "text": [
      "2\n",
      "0\n"
     ]
    }
   ],
   "source": [
    "l = [1, 2, 1]\n",
    "print l.count(1)\n",
    "print l.index(1)"
   ]
  },
  {
   "cell_type": "markdown",
   "metadata": {},
   "source": [
    "---\n",
    "### numpy的相关API\n",
    "#### numpy的argxxx与xxx API的区别\n",
    "* xxx(如`max`)：返回操作之后的元素（数组）\n",
    "* argxxx(如`argmax`): 返回相同操作后元素的index"
   ]
  },
  {
   "cell_type": "code",
   "execution_count": 21,
   "metadata": {
    "collapsed": false
   },
   "outputs": [
    {
     "name": "stdout",
     "output_type": "stream",
     "text": [
      "7\n",
      "5\n"
     ]
    }
   ],
   "source": [
    "a = np.array([[2, 3, 4], [5, 6, 7]])\n",
    "print np.max(a)\n",
    "print np.argmax(a)"
   ]
  },
  {
   "cell_type": "markdown",
   "metadata": {},
   "source": [
    "#### numpy访问二维数组"
   ]
  },
  {
   "cell_type": "code",
   "execution_count": 12,
   "metadata": {
    "collapsed": false
   },
   "outputs": [
    {
     "name": "stdout",
     "output_type": "stream",
     "text": [
      "[[-1.63098092  0.76165386 -1.3502081 ]\n",
      " [-0.61473232 -1.5517797  -0.81745985]]\n",
      "0.761653860978\n"
     ]
    }
   ],
   "source": [
    "import numpy as np\n",
    "x = np.random.randn(2, 3)\n",
    "print x\n",
    "print x[0, 1]"
   ]
  },
  {
   "cell_type": "markdown",
   "metadata": {},
   "source": [
    "---\n",
    "### filter的应用\n",
    "1. 定义一个过滤函数f，返回一个bool值，表示元素是否被保留\n",
    "2. filter函数返回一个迭代器"
   ]
  },
  {
   "cell_type": "code",
   "execution_count": 13,
   "metadata": {
    "collapsed": false
   },
   "outputs": [
    {
     "name": "stdout",
     "output_type": "stream",
     "text": [
      "[10, 10]\n"
     ]
    }
   ],
   "source": [
    "a = [10, 10, 5]\n",
    "def f(x):\n",
    "    return x == 10\n",
    "b = [x for x in filter(f, a)]\n",
    "print b"
   ]
  },
  {
   "cell_type": "markdown",
   "metadata": {},
   "source": [
    "---\n",
    "### random中用于抽样的关键API的应用"
   ]
  },
  {
   "cell_type": "code",
   "execution_count": 14,
   "metadata": {
    "collapsed": false
   },
   "outputs": [
    {
     "name": "stdout",
     "output_type": "stream",
     "text": [
      "1\n",
      "[3, 5, 9, 1, 2]\n"
     ]
    }
   ],
   "source": [
    "import random\n",
    "l = [1, 2, 3, 5, 9]\n",
    "res = random.choice(l)\n",
    "print res\n",
    "sample = random.sample(l, 5)\n",
    "# 不放回抽样！这个API真是太好用了！\n",
    "# 之前写的很臭的专门用于抽样的代码可以重构了！\n",
    "print sample"
   ]
  },
  {
   "cell_type": "code",
   "execution_count": 15,
   "metadata": {
    "collapsed": false
   },
   "outputs": [
    {
     "name": "stdout",
     "output_type": "stream",
     "text": [
      "[0.7903145257301459, 0.18967548617523503, 0.018967548617523502, 0.0010116025929345867, 3.0348077788037603e-05, 4.855692446086016e-07, 3.2371282973906776e-09]\n",
      "1.0\n",
      "0.0950604010209\n",
      "0.782757789696\n",
      "0.054310000665\n",
      "0.136541903613\n",
      "6.48030907641e-06\n"
     ]
    }
   ],
   "source": [
    "import numpy as np\n",
    "a = 26.0 ** 6\n",
    "l = [25 ** 6 / a, 6 * 25 ** 5 / a, 15 * 25 ** 4 / a, 20 * 25 ** 3 / a, 15 * 25 ** 2 / a, 6 * 25 / a, 1 / a]\n",
    "print l\n",
    "print np.array(l).sum()\n",
    "print l[0] ** 10\n",
    "print 24 ** 6 / 25.0 ** 6 \n",
    "print 16 ** 6 / 26.0 ** 6\n",
    "p = 1.0\n",
    "for x in range(17, 27):\n",
    "    p *= x / 26.0\n",
    "print p\n",
    "print p ** 6"
   ]
  },
  {
   "cell_type": "markdown",
   "metadata": {},
   "source": [
    "---\n",
    "### Theano用法示例"
   ]
  },
  {
   "cell_type": "code",
   "execution_count": 2,
   "metadata": {
    "collapsed": false
   },
   "outputs": [
    {
     "name": "stdout",
     "output_type": "stream",
     "text": [
      "5.0\n",
      "[ 3.  6.]\n"
     ]
    }
   ],
   "source": [
    "import numpy as np\n",
    "import theano\n",
    "import theano.tensor as T\n",
    "from theano import function as F\n",
    "x = T.dscalar(\"x\")\n",
    "y = T.dscalar(\"y\")\n",
    "z = x + y\n",
    "fc = F([x, y], z)\n",
    "print(fc(2, 3))\n",
    "l = T.fmatrix(\"l\")\n",
    "n = T.fmatrix(\"m\")\n",
    "m = T.sum(l, axis = 1)\n",
    "func1 = F([l], m)\n",
    "print(func1([[1.0, 1.0, 1.0], [2.0, 2.0, 2.0]]))"
   ]
  },
  {
   "cell_type": "markdown",
   "metadata": {},
   "source": [
    "---\n",
    "### numpy的相关API"
   ]
  },
  {
   "cell_type": "code",
   "execution_count": 19,
   "metadata": {
    "collapsed": false
   },
   "outputs": [
    {
     "name": "stdout",
     "output_type": "stream",
     "text": [
      "5\n"
     ]
    }
   ],
   "source": [
    "a = np.array([[2, 3, 4], [5, 6, 7]])\n",
    "print np.argmax(a)"
   ]
  },
  {
   "cell_type": "markdown",
   "metadata": {},
   "source": [
    "### 列表相关操作"
   ]
  },
  {
   "cell_type": "code",
   "execution_count": 5,
   "metadata": {
    "collapsed": false
   },
   "outputs": [
    {
     "name": "stdout",
     "output_type": "stream",
     "text": [
      "some elements in [0, 1, 2] is not 1\n",
      "some elements in [0, 1, 2] is 1\n",
      "all elements in [1, 1, 1] is 1\n",
      "some elements in [1, 1, 1] is 1\n"
     ]
    }
   ],
   "source": [
    "def has_same_attribute(l):\n",
    "    if all([i == 1 for i in l]):\n",
    "        print(\"all elements in {} is 1\".format(l))\n",
    "    else:\n",
    "        print(\"some elements in {} is not 1\".format(l))\n",
    "    if any([i == 1 for i in l]):\n",
    "        print(\"some elements in {} is 1\".format(l))\n",
    "    else:\n",
    "        print(\"all elements in {} is not 1\".format(l))\n",
    "has_same_attribute([i for i in range(3)])\n",
    "has_same_attribute([1, 1, 1])"
   ]
  },
  {
   "cell_type": "markdown",
   "metadata": {},
   "source": [
    "---\n",
    "## numpy骚操作 "
   ]
  },
  {
   "cell_type": "code",
   "execution_count": 14,
   "metadata": {
    "collapsed": false
   },
   "outputs": [
    {
     "name": "stdout",
     "output_type": "stream",
     "text": [
      "[1 3 1]\n",
      "(array([0, 2]),)\n"
     ]
    },
    {
     "name": "stderr",
     "output_type": "stream",
     "text": [
      "/Users/zhaomingxing/anaconda2/lib/python2.7/site-packages/ipykernel/__main__.py:6: DeprecationWarning: elementwise == comparison failed; this will raise an error in the future.\n"
     ]
    },
    {
     "ename": "TypeError",
     "evalue": "'bool' object has no attribute '__getitem__'",
     "output_type": "error",
     "traceback": [
      "\u001b[0;31m---------------------------------------------------------------------------\u001b[0m",
      "\u001b[0;31mTypeError\u001b[0m                                 Traceback (most recent call last)",
      "\u001b[0;32m<ipython-input-14-07341b45e0c9>\u001b[0m in \u001b[0;36m<module>\u001b[0;34m()\u001b[0m\n\u001b[1;32m      4\u001b[0m \u001b[0;32mprint\u001b[0m\u001b[0;34m(\u001b[0m\u001b[0mdc\u001b[0m\u001b[0;34m)\u001b[0m\u001b[0;34m\u001b[0m\u001b[0m\n\u001b[1;32m      5\u001b[0m \u001b[0;32mprint\u001b[0m\u001b[0;34m(\u001b[0m\u001b[0mnp\u001b[0m\u001b[0;34m.\u001b[0m\u001b[0mwhere\u001b[0m\u001b[0;34m(\u001b[0m\u001b[0mdc\u001b[0m \u001b[0;34m==\u001b[0m \u001b[0;36m1\u001b[0m\u001b[0;34m)\u001b[0m\u001b[0;34m)\u001b[0m\u001b[0;34m\u001b[0m\u001b[0m\n\u001b[0;32m----> 6\u001b[0;31m \u001b[0;32mprint\u001b[0m\u001b[0;34m(\u001b[0m\u001b[0mnp\u001b[0m\u001b[0;34m.\u001b[0m\u001b[0mmgrid\u001b[0m\u001b[0;34m[\u001b[0m\u001b[0;34m:\u001b[0m\u001b[0;36m2\u001b[0m\u001b[0;34m]\u001b[0m\u001b[0;34m[\u001b[0m\u001b[0;34m:\u001b[0m\u001b[0;36m3\u001b[0m\u001b[0;34m]\u001b[0m \u001b[0;34m==\u001b[0m \u001b[0mdc\u001b[0m\u001b[0;34m)\u001b[0m\u001b[0;34m[\u001b[0m\u001b[0;36m0\u001b[0m\u001b[0;34m]\u001b[0m\u001b[0;34m\u001b[0m\u001b[0m\n\u001b[0m",
      "\u001b[0;31mTypeError\u001b[0m: 'bool' object has no attribute '__getitem__'"
     ]
    }
   ],
   "source": [
    "import numpy as np\n",
    "l = np.array([[1, 2],[3, 4],[1, 5]])\n",
    "dc = l[:,0]\n",
    "print(dc)\n",
    "print(np.where(dc == 1))\n",
    "print(np.mgrid[:2][:3] == dc)[0]"
   ]
  },
  {
   "cell_type": "markdown",
   "metadata": {},
   "source": [
    "----\n",
    "## KB-infoBot关键信息"
   ]
  },
  {
   "cell_type": "markdown",
   "metadata": {},
   "source": [
    "1. agent的行为存储在`params['act_set']`中，共计四种:\n",
    "    * request\n",
    "    * inform\n",
    "    * thanks\n",
    "    * deny\n",
    "2. dict_path中保存的是数据集上每个槽到槽中值的list的映射，是一个2进制文件，必须通过2进制读取\n",
    "3. movie_kb（很多参数名为`movie_dict`）实际包含了\n",
    "    * dict: 数据集上每个槽到槽值set的映射\n",
    "    * length: 每个槽到槽中值set长度的映射(每个槽的槽值ID的上限，也可以用来表示UNK，也就是misssing value)\n",
    "    * 每个slot下不同的token(不含停止词的单词)到槽值的index的映射\n",
    "4. database的各种属性和函数\n",
    "    1. 属性\n",
    "        * labels: 每条记录的电影名\n",
    "        * tuples: 每条记录出去电影名之外的6个slot的值\n",
    "        * slots: 所有的slot（7个）\n",
    "        * table: 将数据库转换为二维的纯数字表格，`table[i,j]`表示第i条记录的第j个slot的值在该slot的所有值组成的set中的index(槽值的id)\n",
    "        * inv_index: 记录每个slot下每个槽值到其出现的行号列表的映射\n",
    "        * 二维表格中每个元素的出现次数，和`table`的shape相同，表示的意义是count\n",
    "        * inv_counts: 记录每个slot下每个槽值的id到其在该列出现次数的映射\n",
    "        * priors: 记录每个slot下的每个slot value的先验分布，频率表示概率，不包括UNK\n",
    "        * unks: table的每个column下的Missing_Value出现的行号\n",
    "        * ids: \n",
    "    2. 函数\n",
    "        * lookup:查找一个用户的query(按照database的属性顺序排序槽值list)，返回行号list和和对应得到行\n",
    "    \n",
    "5. agent的各种细节：\n",
    "    * feature_extractor是干嘛的？怎么提取特征的？\n",
    "    * agent和evaluate版本分别用于训练和测试\n",
    "    * 继承了三个类：\n",
    "        * E2ERLAgent: 初始化使用init model构造计算流图, 模型并不复杂\n",
    "        * SoftDB\n",
    "        * BeliefTracker: \n",
    "6. usersim的细节：\n",
    "    * 用户模拟器，模拟用户的行为\n",
    "        * 在在每轮对话开始时选随机抽样得到一个用户感兴趣的record并随机选择一个action，生成用户的提问\n",
    "        * 在对话过程中，根据dialog state，运行next_turn函数，继续对话或者选择终止对话\n",
    "7. dialog manager\n",
    "    * initialize_episode：\n",
    "        1. 调用user模拟器的initialize_episode：\n",
    "            * 通过sample goal随机选择一个用户感兴趣的record\n",
    "            * goal的形式:\n",
    "               * 'request_slots': {'movie': 'UNK'}\n",
    "               * 'target': 30\n",
    "               * 'inform_slots' : {u'release_year': u'2009', u'critic_rating': None, u'actor': None, u'director': u'daniel henr\\xedquez', u'mpaa_rating': None, u'genre': u'romance'}}\n",
    "            * 通过sample action生成用户提问，向用户已知数据中加入噪音\n",
    "            * corrupt会将已知的slot给搞混，因为用户的记忆是不可靠的，生成inform_slots_noisy，对inform_slots加入了噪音\n",
    "            * 返回用户的action，其实就是对话的状态,action的形式是：\n",
    "                * 'request_slots': {'movie': 'UNK'}, 用户想知道的东西\n",
    "                * 'reward': 0, 该episode进行到该turn的reword\n",
    "                * 'nl_sentence': u'I am looking for a movie with critic_rating 8.1 and genre drama.', NLG生成的NL回答\n",
    "                * 'turn': 0\n",
    "                * 'diaact': 'request', user的对话行为\n",
    "                * 'inform_slots': {u'genre': u'drama', u'critic_rating': u'7.9'}, 用户已知的slots\n",
    "                * 'inform_slots_noisy': {u'genre': u'drama', u'critic_rating': '8.1'}, 'prev_diaact': 'UNK', 'episode_over': False}，加入噪声之后的用户已知的slots表示\n",
    "        2. 确保用户提出的问题，在数据库中能匹配到的记录`<=`5，~~这太bug了~~！！！\n",
    "        \n",
    "        3. 调用agent的initialize_episode \n",
    "            * ~~这里会发生什么呢？是我的话会怎么做呢？？~~\n",
    "8. dialog config模块：\n",
    "    * 主要包括可以查询的slot名称的列表，inform slot缺少了movie name\n",
    "    * start_dia_acts在**哪用的？**\n",
    "9. theano搭建神经网络的思维模式：\n",
    "    * 使用T模块设置Variable\n",
    "    * 使用L模块堆叠层\n",
    "    * 使用get_output类似的函数获取输出\n",
    "    * 设置function，指定由初始变量计算出loss\n",
    "    * 运行该function"
   ]
  }
 ],
 "metadata": {
  "anaconda-cloud": {},
  "kernelspec": {
   "display_name": "Python [conda env:anaconda2]",
   "language": "python",
   "name": "conda-env-anaconda2-py"
  },
  "language_info": {
   "codemirror_mode": {
    "name": "ipython",
    "version": 2
   },
   "file_extension": ".py",
   "mimetype": "text/x-python",
   "name": "python",
   "nbconvert_exporter": "python",
   "pygments_lexer": "ipython2",
   "version": "2.7.12"
  }
 },
 "nbformat": 4,
 "nbformat_minor": 1
}
