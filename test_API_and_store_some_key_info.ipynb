{
 "cells": [
  {
   "cell_type": "markdown",
   "metadata": {},
   "source": [
    "## 新发现的各种好用API"
   ]
  },
  {
   "cell_type": "markdown",
   "metadata": {},
   "source": [
    "### collections包中的数据结构\n",
    "\n",
    "#### defaultdict和Counter\n",
    "* defaultdict: 构建较为复杂的dict的时候，传递一个value类型的参数，后面就不用通过判断key是否在dict中来决定是否需要初始化value了\n",
    "* Counter:构造一个dict对象，可以直接传递要计数的类型的list调用Counter的update成员函数，更新Counter\n",
    "* 比如要计数一个iterable中各元素的出现频率，可以先构建一个Counter对象，然后直接把iterable对象传递给Counter即可\n",
    "#### deque\n",
    "* 双端队列"
   ]
  },
  {
   "cell_type": "code",
   "execution_count": 1,
   "metadata": {
    "collapsed": false
   },
   "outputs": [
    {
     "name": "stdout",
     "output_type": "stream",
     "text": [
      "defaultdict(<type 'list'>, {0: [0], 1: [1], 2: [2], 3: [3], 4: [4], 5: [5], 6: [6], 7: [7], 8: [8], 9: [9]})\n",
      "Counter({0: 2, 1: 2, 2: 2, 3: 2, 4: 2, 5: 1, 6: 1, 7: 1, 8: 1, 9: 1})\n",
      "deque([], maxlen=128)\n"
     ]
    }
   ],
   "source": [
    "from collections import defaultdict, Counter, deque\n",
    "x = defaultdict(list)\n",
    "for i in range(10):\n",
    "    x[i].append(i)\n",
    "print x\n",
    "l = [i for i in range(10)]\n",
    "l += [i for i in range(5)]\n",
    "c = Counter()\n",
    "c.update(l)\n",
    "print c\n",
    "d = deque([], 128)\n",
    "print(d)"
   ]
  },
  {
   "cell_type": "markdown",
   "metadata": {},
   "source": [
    "### list的count函数和index函数\n",
    "    \n",
    "    * count可以计数指定元素x的出现次数\n",
    "    * index可以直接得到指定元素第一次出现的index"
   ]
  },
  {
   "cell_type": "code",
   "execution_count": 2,
   "metadata": {
    "collapsed": false
   },
   "outputs": [
    {
     "name": "stdout",
     "output_type": "stream",
     "text": [
      "2\n",
      "0\n"
     ]
    }
   ],
   "source": [
    "l = [1, 2, 1]\n",
    "print l.count(1)\n",
    "print l.index(1)"
   ]
  },
  {
   "cell_type": "markdown",
   "metadata": {},
   "source": [
    "## 根据类型加入逻辑"
   ]
  },
  {
   "cell_type": "code",
   "execution_count": 7,
   "metadata": {
    "collapsed": false
   },
   "outputs": [
    {
     "name": "stdout",
     "output_type": "stream",
     "text": [
      "y:None\n",
      "lambda:xxx\n",
      "()\n",
      "你好\txx\n",
      "true\n"
     ]
    }
   ],
   "source": [
    "x = u'xxx'\n",
    "d = {}\n",
    "d[u'lambda'] = x\n",
    "d['y'] = None\n",
    "for k, v in d.iteritems():\n",
    "    print ('{}:{}'.format(k.encode(\"utf8\") if type(k) == unicode else k, v.encode(\"utf8\") if v is not None and type(v) == unicode else v))\n",
    "l = [u'你好', 'xx']\n",
    "print ()\n",
    "print '\\t'.join([v.encode(\"utf8\") if v is not None and type(v) == unicode else v for v in l])\n",
    "if type(x) == unicode:\n",
    "    print \"true\"\n",
    "else:\n",
    "    print \"false\""
   ]
  },
  {
   "cell_type": "code",
   "execution_count": 1,
   "metadata": {
    "collapsed": false
   },
   "outputs": [
    {
     "name": "stderr",
     "output_type": "stream",
     "text": [
      "Building prefix dict from the default dictionary ...\n",
      "Loading model from cache /var/folders/hj/t5zcknzn2s7_ztyvj4kzp3200000gn/T/jieba.cache\n",
      "Loading model cost 0.496 seconds.\n",
      "Prefix dict has been built succesfully.\n"
     ]
    },
    {
     "name": "stdout",
     "output_type": "stream",
     "text": [
      "十动然\n",
      "拒\n",
      "请\n",
      "搜索\n",
      "成龙\n",
      "主演\n",
      "的\n",
      "电影\n"
     ]
    }
   ],
   "source": [
    "import jieba\n",
    "for x in jieba.cut(\"十动然拒\"):\n",
    "    print x\n",
    "for x in jieba.cut(\"请搜索成龙主演的电影\"):\n",
    "    print x"
   ]
  },
  {
   "cell_type": "markdown",
   "metadata": {},
   "source": [
    "---\n",
    "### numpy的相关API\n",
    "#### numpy的argxxx与xxx API的区别\n",
    "* xxx(如`max`)：返回操作之后的元素（数组）\n",
    "* argxxx(如`argmax`): 返回相同操作后元素的index"
   ]
  },
  {
   "cell_type": "code",
   "execution_count": 4,
   "metadata": {
    "collapsed": false
   },
   "outputs": [
    {
     "name": "stdout",
     "output_type": "stream",
     "text": [
      "7\n",
      "5\n",
      "<type 'numpy.float32'>\n",
      "2.0\n",
      "(2, 2)\n",
      "()\n",
      "(2,)\n",
      "(1, 2, 2)\n",
      "5\n",
      "0\n",
      "dc: [1 3 1]\n",
      "(array([0, 2]),)\n",
      "grids: [[[0 0 0]\n",
      "  [1 1 1]]\n",
      "\n",
      " [[0 1 2]\n",
      "  [0 1 2]]]\n",
      "[[False False False]\n",
      " [ True False  True]]\n",
      "0.566843128605\n",
      "[[ 0.  0.]]\n",
      "[0.7903145257301459, 0.18967548617523503, 0.018967548617523502, 0.0010116025929345867, 3.0348077788037603e-05, 4.855692446086016e-07, 3.2371282973906776e-09]\n",
      "1.0\n",
      "0.0950604010209\n",
      "0.782757789696\n",
      "0.054310000665\n",
      "0.136541903613\n",
      "6.48030907641e-06\n"
     ]
    },
    {
     "name": "stderr",
     "output_type": "stream",
     "text": [
      "/Users/zhaomingxing/anaconda2/lib/python2.7/site-packages/ipykernel/__main__.py:8: RuntimeWarning: divide by zero encountered in log2\n"
     ]
    }
   ],
   "source": [
    "import numpy as np\n",
    "a = np.array([[2, 3, 4], [5, 6, 7]])\n",
    "print np.max(a)\n",
    "print np.argmax(a)\n",
    "v = np.zeros((2,)).astype(\"float32\")\n",
    "print(type(v[0]))\n",
    "v[1] = 2.0\n",
    "print(np.sum(np.nan_to_num(np.log2(v)) * v))\n",
    "a = np.zeros((2, 2))\n",
    "a[0,0] = 1.0\n",
    "print(a.shape)\n",
    "print(np.sum(a).shape)\n",
    "print(np.sum(a, axis=1).shape)\n",
    "print(np.expand_dims(a, axis=0).shape)\n",
    "a = np.array([[2, 3, 4], [5, 6, 7]])\n",
    "print np.argmax(a)\n",
    "a = np.array([0.1, 0.2, 0.7])\n",
    "print(np.argsort(a)[::-1])[-1]\n",
    "l = np.array([[1, 2],[3, 4],[1, 5]])\n",
    "dc = l[:,0]\n",
    "print(\"dc: {}\".format(dc))\n",
    "print(np.where(dc == 1))\n",
    "grids = np.mgrid[:2,:3]\n",
    "print(\"grids: {}\".format(grids))\n",
    "print(grids == dc)[0]\n",
    "print(np.random.uniform())\n",
    "print(np.zeros((1, 2)))\n",
    "a = 26.0 ** 6\n",
    "l = [25 ** 6 / a, 6 * 25 ** 5 / a, 15 * 25 ** 4 / a, 20 * 25 ** 3 / a, 15 * 25 ** 2 / a, 6 * 25 / a, 1 / a]\n",
    "print l\n",
    "print np.array(l).sum()\n",
    "print l[0] ** 10\n",
    "print 24 ** 6 / 25.0 ** 6 \n",
    "print 16 ** 6 / 26.0 ** 6\n",
    "p = 1.0\n",
    "for x in range(17, 27):\n",
    "    p *= x / 26.0\n",
    "print p\n",
    "print p ** 6"
   ]
  },
  {
   "cell_type": "markdown",
   "metadata": {},
   "source": [
    "#### numpy访问二维数组"
   ]
  },
  {
   "cell_type": "code",
   "execution_count": 12,
   "metadata": {
    "collapsed": false
   },
   "outputs": [
    {
     "name": "stdout",
     "output_type": "stream",
     "text": [
      "[[-1.63098092  0.76165386 -1.3502081 ]\n",
      " [-0.61473232 -1.5517797  -0.81745985]]\n",
      "0.761653860978\n"
     ]
    }
   ],
   "source": [
    "import numpy as np\n",
    "x = np.random.randn(2, 3)\n",
    "print x\n",
    "print x[0, 1]"
   ]
  },
  {
   "cell_type": "markdown",
   "metadata": {},
   "source": [
    "---\n",
    "### filter的应用\n",
    "1. 定义一个过滤函数f，返回一个bool值，表示元素是否被保留\n",
    "2. filter函数返回一个迭代器"
   ]
  },
  {
   "cell_type": "code",
   "execution_count": 13,
   "metadata": {
    "collapsed": false
   },
   "outputs": [
    {
     "name": "stdout",
     "output_type": "stream",
     "text": [
      "[10, 10]\n"
     ]
    }
   ],
   "source": [
    "a = [10, 10, 5]\n",
    "def f(x):\n",
    "    return x == 10\n",
    "b = [x for x in filter(f, a)]\n",
    "print b"
   ]
  },
  {
   "cell_type": "markdown",
   "metadata": {},
   "source": [
    "---\n",
    "### random中用于抽样的关键API的应用"
   ]
  },
  {
   "cell_type": "code",
   "execution_count": 14,
   "metadata": {
    "collapsed": false
   },
   "outputs": [
    {
     "name": "stdout",
     "output_type": "stream",
     "text": [
      "1\n",
      "[3, 5, 9, 1, 2]\n"
     ]
    }
   ],
   "source": [
    "import random\n",
    "l = [1, 2, 3, 5, 9]\n",
    "res = random.choice(l)\n",
    "print res\n",
    "sample = random.sample(l, 5)\n",
    "# 不放回抽样！这个API真是太好用了！\n",
    "# 之前写的很臭的专门用于抽样的代码可以重构了！\n",
    "print sample"
   ]
  },
  {
   "cell_type": "markdown",
   "metadata": {},
   "source": [
    "---\n",
    "### Theano用法示例"
   ]
  },
  {
   "cell_type": "code",
   "execution_count": 19,
   "metadata": {
    "collapsed": false
   },
   "outputs": [
    {
     "name": "stdout",
     "output_type": "stream",
     "text": [
      "5.0\n",
      "[ 3.  6.]\n",
      "[[0 1 2 0 1]\n",
      " [0 1 2 0 1]]\n"
     ]
    }
   ],
   "source": [
    "import numpy as np\n",
    "import theano\n",
    "import theano.tensor as T\n",
    "from theano import function as F\n",
    "x = T.dscalar(\"x\")\n",
    "y = T.dscalar(\"y\")\n",
    "z = x + y\n",
    "fc = F([x, y], z)\n",
    "print(fc(2, 3))\n",
    "l = T.fmatrix(\"l\")\n",
    "n = T.fmatrix(\"m\")\n",
    "m = T.sum(l, axis = 1)\n",
    "func1 = F([l], m)\n",
    "print(func1([[1.0, 1.0, 1.0], [2.0, 2.0, 2.0]]))\n",
    "\n",
    "t = T.tile(T.arange(3), (2,2))[:, :-1]\n",
    "foo = F([], t)\n",
    "print(foo())"
   ]
  },
  {
   "cell_type": "markdown",
   "metadata": {},
   "source": [
    "### 列表相关操作"
   ]
  },
  {
   "cell_type": "code",
   "execution_count": 5,
   "metadata": {
    "collapsed": false
   },
   "outputs": [
    {
     "name": "stdout",
     "output_type": "stream",
     "text": [
      "some elements in [0, 1, 2] is not 1\n",
      "some elements in [0, 1, 2] is 1\n",
      "all elements in [1, 1, 1] is 1\n",
      "some elements in [1, 1, 1] is 1\n"
     ]
    }
   ],
   "source": [
    "def has_same_attribute(l):\n",
    "    if all([i == 1 for i in l]):\n",
    "        print(\"all elements in {} is 1\".format(l))\n",
    "    else:\n",
    "        print(\"some elements in {} is not 1\".format(l))\n",
    "    if any([i == 1 for i in l]):\n",
    "        print(\"some elements in {} is 1\".format(l))\n",
    "    else:\n",
    "        print(\"all elements in {} is not 1\".format(l))\n",
    "has_same_attribute([i for i in range(3)])\n",
    "has_same_attribute([1, 1, 1])"
   ]
  },
  {
   "cell_type": "markdown",
   "metadata": {},
   "source": [
    "---\n",
    "## pickle和Cpickle\n",
    "\n",
    "pickle将多个对象dump到同一个文件中，再从同一个文件中load，这也是可以的！\n",
    "\n",
    "这里也要注意unicode和str的区别。如果需要用unicode，就要在每次需要用到的时候将str显式转换到unicode，全局使用unicode.\n",
    "\n",
    "---"
   ]
  },
  {
   "cell_type": "code",
   "execution_count": 1,
   "metadata": {
    "collapsed": false
   },
   "outputs": [
    {
     "name": "stdout",
     "output_type": "stream",
     "text": [
      "<type 'str'>\n",
      "<type 'unicode'>\n"
     ]
    }
   ],
   "source": [
    "print type(u'xx'.encode(\"utf-8\"))\n",
    "print type('xx'.decode(\"utf-8\"))"
   ]
  },
  {
   "cell_type": "markdown",
   "metadata": {},
   "source": [
    "----\n",
    "## NLTK及对应的中文工具包"
   ]
  },
  {
   "cell_type": "code",
   "execution_count": 3,
   "metadata": {
    "collapsed": false,
    "scrolled": true
   },
   "outputs": [
    {
     "name": "stdout",
     "output_type": "stream",
     "text": [
      "['i', 'love', 'you']\n",
      "我吃饭了 你吃了吗 \n",
      "吃饭\n",
      " \n",
      "吃\n",
      " \n",
      "True\n",
      "(<type 'unicode'>, <type 'str'>)\n",
      "True\n",
      "10\n",
      "请输入hello\n",
      "('hello', <type 'str'>)\n",
      "hello\n"
     ]
    }
   ],
   "source": [
    "import sys, locale\n",
    "import nltk\n",
    "import jieba\n",
    "import re\n",
    "\n",
    "def remove_punctuation(text):\n",
    "    string = re.sub(\"[\\s+\\.\\!\\/_,$%^*(+\\\"\\']+|[+——！，。？、~@#￥%……&*（）]+\".decode(\"utf8\"), \" \".decode(\"utf8\"),text)\n",
    "    return string\n",
    "print(nltk.word_tokenize(\"I love you\".lower()))\n",
    "u_str = u'我吃饭了，你吃了吗？'\n",
    "u_str = remove_punctuation(u_str)\n",
    "print(u_str)\n",
    "chinese_stopwords = u'按, 按照, 俺, 俺们, 阿,别, 别人, 别处, 别是, 别的, 别管, 别说, 不, 不仅 ,不但, 不光, 不单, 不只, 不外乎, 不如, 不妨, 不尽, 不尽然, 不得, 不怕, 不惟, 不成, 不拘, 不料, 不是, 不比, 不然, 不特, 不独, 不管, 不至于, 不若, 不论, 不过, 不问, 比方, 比如, 比及, 比, 本身, 本着, 本地, 本人, 本, 巴巴, 巴, 并, 并且, 非,彼, 彼时, 彼此, 便于, 把, 边, 鄙人, 罢了, 被, 般的,此间,此次,此时,此外,此处,此地,此,才,才能,朝,朝着,从,从此,从而,除非,除此之外,除开,除外,除了,除,诚然,诚如,出来,出于,曾,趁着,趁,处在,乘,冲,等等,等到,等,第,当着,当然,当地,当,多,多么,多少,对,对于,对待,对方,对比,得,得了,打,打从,的,的确,的话,但,但凡,但是,大家,大,地,待,都,到,叮咚,而言,而是,而已,而外,而后,而况,而且,而,尔尔,尔后,尔,二来,非独,非特,非徒,非但,否则,反过来说,反过来,反而,反之,分别,凡是,凡,个,个别,固然,故,故此,故而,果然,果真,各,各个,各位,各种,各自,关于具体地说,归齐,归,根据,管,赶,跟,过,该,给,光是,或者,或曰,或是,或则,或,何,何以,何况,何处,何时,还要,还有,还是,还,后者,很,换言之,换句话说,好,后,和,即,即令,即使,即便,即如,即或,即若,继而,继后,继之,既然,既是,既往,既,尽管如此,尽管,尽,就要,就算,就是说,就是了,就是,就,据,据此,接着,经,经过,结果,及,及其,及至,加以,加之,例如,介于,几时,几,截至,极了,简言之,竟而,紧接着,距,较之,较,进而,鉴于,基于,具体说来,兼之,借傥然,今,叫,将,可,可以,可是,可见,开始,开外,况且,靠,看,来说,来自,来着,来,两者,临,类如,论,赖以,连,连同,离,莫若,莫如,莫不然,假使,假如,假若,某,某个,某些,某某,漫说,没奈何,每当,每,慢说,冒,哪个,哪些,哪儿,哪天,哪年,哪怕,哪样,哪边,哪里,那里,那边,那般,那样,那时,那儿,那会儿,那些,那么样,那么些,那么,那个,那,乃,乃至,乃至于,宁肯,宁愿,宁可,宁,能,能否,你,你们,您,拿,难道说,内,哪,凭借,凭,旁人,譬如, 譬喻,且,且不说,且说,其,其一,其中,其二,其他,其余,其它,其次,前后,前此,前者,起见,起,全部,全体,恰恰相反,岂但,却,去,若非,若果,若是,若夫,若,另,另一方面,另外,另悉,如若,如此,如果,如是,如同,如其,如何,如下,如上所述,如上,如,然则,然后,然而,任,任何,任凭,仍,仍旧,人家,人们,人,让,甚至于,甚至,甚而,甚或,甚么,甚且,什么,什么样,上,上下,虽说,虽然,虽则,虽,孰知,孰料,始而,所,所以,所在,所幸,所有,是,是以,是的,设使,设或,设若,谁,谁人,谁料,谁知,随着,随时,随后,随,顺着,顺,受到,使得,使,似的,尚且,庶几,庶乎,时候,省得,说来,首先,倘,倘使,倘或,倘然,倘若,同,同时,他,他人,他们们,她们,她,它们,它,替代,替,通过,腾,这里,这边,这般,这次,这样,这时,这就是说,这儿,这会儿,这些,这么点儿,这么样,这么些,这么,这个,这一来,这,正是,正巧,正如,正值,万一,为,为了,为什么,为何,为止,为此,为着,无论,无宁,无,我们,我,往,望,惟其,唯有,下,向着,向使,向,先不先,相对而言,许多,像,小,些,一,一些,一何,一切,一则,一方面,一旦,一来,一样,一般,一转眼,,由此可见,由此,由是,由于,由,用来,因而,因着,因此,因了,因为,因,要是,要么,要不然,要不是,要不,要,与,与其,与其说,与否,与此同时,以,以上,以为,以便,以免,以及,以故,以期,以来,以至,以至于,以致,己,已,已矣,有,有些,有关,有及,有时,有的,沿,沿着,于,于是,于是乎,云云,云尔,依照,依据,依,余外,也罢,也好,也,又及,又,抑或,犹自,犹且,用,越是,只当,只怕,只是,只有,只消,只要,只限,再,再其次,再则,再有,再者,再者说,再说,自身,自打,自己,自家,自后,自各儿,自从,自个儿,自,怎样,怎奈,怎么样,怎么办,怎么,怎,至若,至今,至于,至,纵然,纵使,纵令,纵,之,之一,之所以,之类,着呢,着,眨眼,总而言之,总的说来,总的来说,总的来看,总之,在于,在下,在,诸,诸位,诸如,咱们,咱,作为,只,最,照着,照,直到,综上所述,贼死,逐步,遵照,遵循,针对,致,者,则甚,则,咳,哇,哈,哈哈,哉,哎,哎呀,哎哟,哗,哟,哦,哩,矣哉,矣乎,矣,焉,毋宁,欤,嘿嘿,嘿,嘻,嘛,嘘,嘎登,嘎,嗳,嗯,嗬,嗡嗡,嗡,喽,喔唷,喏,喂,啷当,啪达,啦,啥,啐,啊,唉,哼唷,哼,咧,咦,咚,咋,呼哧,呸,呵呵,呵,呢,呜呼,呜,呗,呕,呃,呀,吱,吧哒,吧,吗,吓,兮,儿,亦,了,乎'\n",
    "chinese_stopwords_set = set([x.strip() for x in chinese_stopwords.split(\",\")])\n",
    "\n",
    "words = [x for x in jieba.cut(u_str, cut_all=False, HMM=True) if x not in chinese_stopwords_set]\n",
    "for word in words:\n",
    "    print word\n",
    "print(u'UNK' == 'UNK')\n",
    "x = u'UNK'\n",
    "y = 'UNK'\n",
    "print(type(x), type(y))\n",
    "print (x == y)\n",
    "x = u'10'\n",
    "try:\n",
    "    y = int(x)\n",
    "    print y\n",
    "except Exception:\n",
    "    print \"No\"\n",
    "inp = raw_input(\"请输入\")\n",
    "print(inp, type(inp))\n",
    "print(inp.decode(\"utf8\"))"
   ]
  },
  {
   "cell_type": "markdown",
   "metadata": {},
   "source": [
    "---\n",
    "## deque"
   ]
  },
  {
   "cell_type": "code",
   "execution_count": 2,
   "metadata": {
    "collapsed": false
   },
   "outputs": [
    {
     "name": "stdout",
     "output_type": "stream",
     "text": [
      "deque([0], maxlen=3)\n",
      "deque([0, 1], maxlen=3)\n",
      "deque([0, 1, 2], maxlen=3)\n",
      "deque([1, 2, 3], maxlen=3)\n",
      "deque([2, 3, 4], maxlen=3)\n",
      "deque([3, 4, 5], maxlen=3)\n",
      "deque([4, 5, 6], maxlen=3)\n",
      "deque([5, 6, 7], maxlen=3)\n",
      "deque([6, 7, 8], maxlen=3)\n",
      "deque([7, 8, 9], maxlen=3)\n"
     ]
    }
   ],
   "source": [
    "from collections import deque\n",
    "q = deque([], 3)\n",
    "for i in range(10):\n",
    "    q.append(i)\n",
    "    print(q)"
   ]
  },
  {
   "cell_type": "markdown",
   "metadata": {},
   "source": [
    "---\n",
    "## torch的forward函数是可以添加多种参数的\n"
   ]
  },
  {
   "cell_type": "code",
   "execution_count": 12,
   "metadata": {
    "collapsed": false
   },
   "outputs": [
    {
     "name": "stdout",
     "output_type": "stream",
     "text": [
      "Variable containing:\n",
      " 1.3286  0.2551\n",
      " 0.1178 -0.2284\n",
      "[torch.FloatTensor of size 2x2]\n",
      "\n"
     ]
    }
   ],
   "source": [
    "import numpy as np\n",
    "import torch\n",
    "import torch.nn as nn\n",
    "import torch.nn.functional as F\n",
    "from torch.autograd import Variable\n",
    "\n",
    "\n",
    "class Model(nn.Module):\n",
    "    def __init__(self):\n",
    "        super(Model, self).__init__()\n",
    "        self.func = nn.Linear(10, 2)\n",
    "\n",
    "    def forward(self, x, regime='RL'):\n",
    "        return self.func(x)\n",
    "\n",
    "net = Model()\n",
    "a = Variable(torch.randn((2, 10)))\n",
    "\n",
    "print(net(a))"
   ]
  },
  {
   "cell_type": "markdown",
   "metadata": {},
   "source": [
    "----\n",
    "## KB-infoBot关键信息"
   ]
  },
  {
   "cell_type": "markdown",
   "metadata": {},
   "source": [
    "1. agent的行为存储在`params['act_set']`中，共计四种:\n",
    "    * request\n",
    "    * inform\n",
    "    * thanks\n",
    "    * deny\n",
    "2. dict_path中保存的是数据集上每个槽到槽中值的list的映射，是一个2进制文件，必须通过2进制读取\n",
    "3. movie_kb（很多参数名为`movie_dict`）实际包含了\n",
    "    * dict: 数据集上每个槽到slot value set的映射\n",
    "    * length: 每个槽到slot value set长度的映射(每个槽的槽值ID的上限，也可以用来表示UNK，也就是misssing value)\n",
    "    * tokens: 每个slot下不同的token(不含停止词的单词)到slot value ID的映射，多个token的情况下，每个token都对应于该value ID,结构为双重dict，最底层的value为list`{slot_name: {word_token: [slot value IDs]}}`\n",
    "4. database的各种属性和函数\n",
    "    1. 属性\n",
    "        * labels: 每条记录的电影名\n",
    "        * tuples: 每条记录出去电影名之外的6个slot的值\n",
    "        * slots: 所有的slot（7个）\n",
    "        * slot_tokens: 每个slot的slot name到slot name切分成的单词列表的dict \n",
    "        * table: 将数据库转换为二维的纯数字表格，`table[i,j]`表示第i条记录的第j个slot的值在该slot的所有值组成的set中的index(槽值的id)\n",
    "        * inv_index: 记录每个slot下每个槽值到其出现的行号列表的映射\n",
    "        * count: 二维表格中每个元素的出现次数，和`table`的shape相同，表示的意义是count\n",
    "        * inv_counts: 记录每个slot下每个value的id到其在table的该列出现次数的映射\n",
    "        * priors: 记录每个slot下的每个slot value的先验分布，频率表示概率，不包括UNK\n",
    "        * unks: table的每个column下的Missing_Value出现的行号\n",
    "        * ids: 记录每个slot的value在table的每一行是否出现，shape为`(|V|,N)`，第i条记录的第j个slot的value为$v_k$时，`ids[k][i] = True`. \n",
    "    2. 函数\n",
    "        * lookup:查找一个用户的query(按照database的属性顺序排序槽值list)，返回行号list和和对应得到行\n",
    "    \n",
    "5. agent的各种细节：\n",
    "    * feature_extractor是干嘛的？怎么提取特征的？\n",
    "    * agent和evaluate版本分别用于训练和测试\n",
    "    * 继承了三个类：\n",
    "        * E2ERLAgent: 初始化使用init model构造计算流图, 模型并不复杂\n",
    "        * SoftDB\n",
    "        * BeliefTracker: \n",
    "6. usersim的细节：\n",
    "    * 用户模拟器，模拟用户的行为\n",
    "        * 在在每轮对话开始时选随机抽样得到一个用户感兴趣的record并随机选择一个action，生成用户的提问\n",
    "        * 在对话过程中，根据dialog state，运行next_turn函数，继续对话或者选择终止对话\n",
    "        * 只要某一轮的用户对话没有结束，本轮的reward就是**-0.1**！这种评判规则相当粗暴！难怪作者要用每轮的reward的累加作为每一步选择的action的概率的log的权重\n",
    "7. dialog manager\n",
    "    * initialize_episode：\n",
    "        1. 调用user模拟器的initialize_episode：\n",
    "            * 通过sample goal随机选择一个用户感兴趣的record\n",
    "            * goal的形式:\n",
    "               * 'request_slots': {'movie': 'UNK'}\n",
    "               * 'target': 30\n",
    "               * 'inform_slots' : {u'release_year': u'2009', u'critic_rating': None, u'actor': None, u'director': u'daniel henr\\xedquez', u'mpaa_rating': None, u'genre': u'romance'}}\n",
    "            * 通过sample action生成用户提问，向用户已知数据中加入噪音\n",
    "            * corrupt会将已知的slot给搞混，因为用户的记忆是不可靠的，生成inform_slots_noisy，对inform_slots加入了噪音\n",
    "            * 返回user的action，这是系统状态的一部分，action的形式是：\n",
    "                * 'request_slots': {'movie': 'UNK'}, 用户想知道的东西\n",
    "                * 'reward': 0, 该episode进行到该turn的reword\n",
    "                * 'nl_sentence': u'I am looking for a movie with critic_rating 8.1 and genre drama.', NLG生成的NL回答\n",
    "                * 'turn': 0\n",
    "                * 'diaact': 'request', user的对话行为\n",
    "                * 'inform_slots': {u'genre': u'drama', u'critic_rating': u'7.9'}, 用户已知的slots\n",
    "                * 'inform_slots_noisy': {u'genre': u'drama', u'critic_rating': '8.1'}, 加入噪声之后的用户已知的slots表示\n",
    "                * 'prev_diaact': 'UNK', 上次的action\n",
    "                * 'episode_over': False，本次对话是否结束\n",
    "        2. 确保用户提出的问题，在数据库中能匹配到的记录`<=`5，~~这太bug了~~！！！\n",
    "        \n",
    "        3. 调用agent的initialize_episode \n",
    "            * ~~这里会发生什么呢？是我的话会怎么做呢？？~~\n",
    "8. dialog config模块：\n",
    "    * 主要包括可以查询的slot名称的列表，inform slot缺少了movie name\n",
    "    * start_dia_acts在**哪用的？**\n",
    "9. theano搭建神经网络的思维模式：\n",
    "    * 使用T模块设置Variable\n",
    "    * 使用L模块堆叠层\n",
    "    * 使用get_output类似的函数获取输出\n",
    "    * 设置function，指定由初始变量计算出loss\n",
    "    * 运行该function\n",
    "10. sys的action的结构：\n",
    "11. 训练思路:\n",
    "    * SL训练中action怎么选？基于什么来选？\n",
    "    * RL中不需要p_target和phi_target了\n",
    "    * 为什么为什么用户模拟器用db_full而agent的db用的是db_inc？\n",
    "    * 为什么SL中可以使用policy网络进行略选择进行act，而训练用的是基于规则得出的action和p_target、phi_target\n",
    "    * SL训练时的特征用什么特征都行，原文中用的是自然语言token计数特征和action的one-hot特征，可以改为其他任何特征，基于规则的推导并不会用到这些特征，基于规则的推导完全基于规则，和神经网络没有半毛钱关系\n",
    "    * mask的处理其实就是一个one-hot处理，每个episode的action_mask的shape是(max_turn, out_size)对应的action的位置为1，其余为0，同理每个episode的turn_mask的shape是(max_turn)，该turn进行了则为1，否则为0\n",
    "    * hidden state的处理是将最新的hidden state保存在对话状态state中，由于在一次参数更新之前，模型参数不变，喂给RNN的初始状态一致即可，后续的状态不会改变，每个turn的状态会改变，只影响一次对话！设计非常妙！\n",
    "12. theano的优点：\n",
    "    * 可以直接为RNN的输入设置mask，不必理会最后添加的0对隐状态的不利影响，非常方便，不知道torch和tensorflow搞出来没有!"
   ]
  }
 ],
 "metadata": {
  "anaconda-cloud": {},
  "kernelspec": {
   "display_name": "Python [conda env:anaconda2]",
   "language": "python",
   "name": "conda-env-anaconda2-py"
  },
  "language_info": {
   "codemirror_mode": {
    "name": "ipython",
    "version": 2
   },
   "file_extension": ".py",
   "mimetype": "text/x-python",
   "name": "python",
   "nbconvert_exporter": "python",
   "pygments_lexer": "ipython2",
   "version": "2.7.12"
  }
 },
 "nbformat": 4,
 "nbformat_minor": 1
}
